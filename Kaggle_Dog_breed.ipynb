{
  "nbformat": 4,
  "nbformat_minor": 0,
  "metadata": {
    "colab": {
      "name": "Kaggle_Dog_breed.ipynb",
      "provenance": [],
      "collapsed_sections": [],
      "toc_visible": true,
      "mount_file_id": "1XQeN1HfAq1BanoCduKq33Ei-d9SRpXNB",
      "authorship_tag": "ABX9TyOJhTllYdi1ah0JXO8VnbRT",
      "include_colab_link": true
    },
    "kernelspec": {
      "name": "python3",
      "display_name": "Python 3"
    },
    "accelerator": "GPU"
  },
  "cells": [
    {
      "cell_type": "markdown",
      "metadata": {
        "id": "view-in-github",
        "colab_type": "text"
      },
      "source": [
        "<a href=\"https://colab.research.google.com/github/seemantKaul/MachineLearning/blob/master/Kaggle_Dog_breed.ipynb\" target=\"_parent\"><img src=\"https://colab.research.google.com/assets/colab-badge.svg\" alt=\"Open In Colab\"/></a>"
      ]
    },
    {
      "cell_type": "markdown",
      "metadata": {
        "id": "VAhpxkY3hMCr",
        "colab_type": "text"
      },
      "source": [
        "# Multi-class image classifier to identify the breed of a dog from image\n",
        "\n",
        "---\n",
        "\n",
        "## Problem\n",
        "To identify the breed of a dog from picture\n",
        "\n",
        "## Data Source\n",
        "Data is from Kaggle.com\n",
        "https://www.kaggle.com/c/dog-breed-identification/data\n",
        "\n",
        "## Evaluation\n",
        "output is a probability number of each breed for an image   \n",
        "https://www.kaggle.com/c/dog-breed-identification/overview/evaluation\n",
        "\n",
        "## Features\n",
        "We have unstructured data (images) so we will do a Transfer learning.\n",
        "We have 10,000 images in Training and 10,000 images in Test\n",
        "We have a csv file with filename and its breed. \n",
        "\n"
      ]
    },
    {
      "cell_type": "code",
      "metadata": {
        "id": "dvePnH1we_GL",
        "colab_type": "code",
        "outputId": "7c4c7793-39e0-4841-d7ff-b62beb129863",
        "colab": {
          "base_uri": "https://localhost:8080/",
          "height": 63
        }
      },
      "source": [
        "# import tensorflow as tf"
      ],
      "execution_count": 0,
      "outputs": [
        {
          "output_type": "display_data",
          "data": {
            "text/html": [
              "<p style=\"color: red;\">\n",
              "The default version of TensorFlow in Colab will soon switch to TensorFlow 2.x.<br>\n",
              "We recommend you <a href=\"https://www.tensorflow.org/guide/migrate\" target=\"_blank\">upgrade</a> now \n",
              "or ensure your notebook will continue to use TensorFlow 1.x via the <code>%tensorflow_version 1.x</code> magic:\n",
              "<a href=\"https://colab.research.google.com/notebooks/tensorflow_version.ipynb\" target=\"_blank\">more info</a>.</p>\n"
            ],
            "text/plain": [
              "<IPython.core.display.HTML object>"
            ]
          },
          "metadata": {
            "tags": []
          }
        }
      ]
    },
    {
      "cell_type": "markdown",
      "metadata": {
        "id": "eVdK4kJfskYU",
        "colab_type": "text"
      },
      "source": [
        "### Importing Tensorflow"
      ]
    },
    {
      "cell_type": "code",
      "metadata": {
        "id": "N5RhAapvhlQ3",
        "colab_type": "code",
        "outputId": "d271f968-8586-4de8-e61f-bc393cdcab44",
        "colab": {
          "base_uri": "https://localhost:8080/",
          "height": 34
        }
      },
      "source": [
        "## import tenserflow 2.x\n",
        "try:\n",
        "  %tensorflow_version 2.x\n",
        "except Exception:\n",
        "  pass"
      ],
      "execution_count": 1,
      "outputs": [
        {
          "output_type": "stream",
          "text": [
            "TensorFlow 2.x selected.\n"
          ],
          "name": "stdout"
        }
      ]
    },
    {
      "cell_type": "code",
      "metadata": {
        "id": "VpkQWh8Mj6uw",
        "colab_type": "code",
        "colab": {}
      },
      "source": [
        "import tensorflow as tf"
      ],
      "execution_count": 0,
      "outputs": []
    },
    {
      "cell_type": "code",
      "metadata": {
        "id": "1OUyf6-yj9HD",
        "colab_type": "code",
        "outputId": "ec58f7d0-4284-45ba-8bf8-e69376f0b691",
        "colab": {
          "base_uri": "https://localhost:8080/",
          "height": 34
        }
      },
      "source": [
        "tf.__version__"
      ],
      "execution_count": 3,
      "outputs": [
        {
          "output_type": "execute_result",
          "data": {
            "text/plain": [
              "'2.1.0'"
            ]
          },
          "metadata": {
            "tags": []
          },
          "execution_count": 3
        }
      ]
    },
    {
      "cell_type": "markdown",
      "metadata": {
        "id": "jVarnm_4s23F",
        "colab_type": "text"
      },
      "source": [
        "### Unzipping files"
      ]
    },
    {
      "cell_type": "code",
      "metadata": {
        "id": "0r_LphwjkNE8",
        "colab_type": "code",
        "colab": {}
      },
      "source": [
        "# !unzip 'drive/My Drive/Colab Notebooks/Data/Dog_Breed_Detection/dog-breed-identification.zip' -d '/content/drive/My Drive/Colab Notebooks/Data/Dog_Breed_Detection/'"
      ],
      "execution_count": 0,
      "outputs": []
    },
    {
      "cell_type": "markdown",
      "metadata": {
        "id": "h5qRx6UcbCSn",
        "colab_type": "text"
      },
      "source": [
        "### comparing file count with Label count"
      ]
    },
    {
      "cell_type": "code",
      "metadata": {
        "id": "Z0zKBlU8twil",
        "colab_type": "code",
        "colab": {}
      },
      "source": [
        "import pandas as pd\n",
        "labels_df = pd.read_csv('/content/drive/My Drive/Colab Notebooks/Data/Dog_Breed_Detection/labels.csv')"
      ],
      "execution_count": 0,
      "outputs": []
    },
    {
      "cell_type": "code",
      "metadata": {
        "id": "H1khNaTat6Zo",
        "colab_type": "code",
        "colab": {
          "base_uri": "https://localhost:8080/",
          "height": 34
        },
        "outputId": "52616c13-1f74-4620-8f87-34c6135b2f6d"
      },
      "source": [
        "len(labels_df)"
      ],
      "execution_count": 5,
      "outputs": [
        {
          "output_type": "execute_result",
          "data": {
            "text/plain": [
              "10222"
            ]
          },
          "metadata": {
            "tags": []
          },
          "execution_count": 5
        }
      ]
    },
    {
      "cell_type": "code",
      "metadata": {
        "id": "vim17fqNt-9s",
        "colab_type": "code",
        "colab": {
          "base_uri": "https://localhost:8080/",
          "height": 34
        },
        "outputId": "91070926-7abb-4e39-a9ec-00a68a67741e"
      },
      "source": [
        "import os\n",
        "len(os.listdir('/content/drive/My Drive/Colab Notebooks/Data/Dog_Breed_Detection/train/'))"
      ],
      "execution_count": 7,
      "outputs": [
        {
          "output_type": "execute_result",
          "data": {
            "text/plain": [
              "10222"
            ]
          },
          "metadata": {
            "tags": []
          },
          "execution_count": 7
        }
      ]
    },
    {
      "cell_type": "markdown",
      "metadata": {
        "id": "pkwloae6uPlF",
        "colab_type": "text"
      },
      "source": [
        "### Importing Tensorflow hub"
      ]
    },
    {
      "cell_type": "code",
      "metadata": {
        "id": "j8BeVPshvuwT",
        "colab_type": "code",
        "colab": {}
      },
      "source": [
        "import tensorflow_hub as hub"
      ],
      "execution_count": 0,
      "outputs": []
    },
    {
      "cell_type": "markdown",
      "metadata": {
        "id": "3aFLX3xWyGgW",
        "colab_type": "text"
      },
      "source": [
        "### Checking if GPU is installed\n",
        "if not, clik on 'Chnage Runtime type' and select GPU\n"
      ]
    },
    {
      "cell_type": "code",
      "metadata": {
        "id": "1S-zdKW9vw7R",
        "colab_type": "code",
        "colab": {
          "base_uri": "https://localhost:8080/",
          "height": 34
        },
        "outputId": "d6c6586b-c288-40d0-ff05-3bb67b89ea81"
      },
      "source": [
        "tf.config.list_physical_devices('GPU')"
      ],
      "execution_count": 9,
      "outputs": [
        {
          "output_type": "execute_result",
          "data": {
            "text/plain": [
              "[PhysicalDevice(name='/physical_device:GPU:0', device_type='GPU')]"
            ]
          },
          "metadata": {
            "tags": []
          },
          "execution_count": 9
        }
      ]
    },
    {
      "cell_type": "markdown",
      "metadata": {
        "id": "9leddcoeyBBz",
        "colab_type": "text"
      },
      "source": [
        "### Visualizing the cass spread"
      ]
    },
    {
      "cell_type": "code",
      "metadata": {
        "id": "m7u9v6KFyl4m",
        "colab_type": "code",
        "colab": {
          "base_uri": "https://localhost:8080/",
          "height": 204
        },
        "outputId": "237b7925-ed9e-432a-cd6b-9715f82b1000"
      },
      "source": [
        "labels_df.head()"
      ],
      "execution_count": 10,
      "outputs": [
        {
          "output_type": "execute_result",
          "data": {
            "text/html": [
              "<div>\n",
              "<style scoped>\n",
              "    .dataframe tbody tr th:only-of-type {\n",
              "        vertical-align: middle;\n",
              "    }\n",
              "\n",
              "    .dataframe tbody tr th {\n",
              "        vertical-align: top;\n",
              "    }\n",
              "\n",
              "    .dataframe thead th {\n",
              "        text-align: right;\n",
              "    }\n",
              "</style>\n",
              "<table border=\"1\" class=\"dataframe\">\n",
              "  <thead>\n",
              "    <tr style=\"text-align: right;\">\n",
              "      <th></th>\n",
              "      <th>id</th>\n",
              "      <th>breed</th>\n",
              "    </tr>\n",
              "  </thead>\n",
              "  <tbody>\n",
              "    <tr>\n",
              "      <th>0</th>\n",
              "      <td>000bec180eb18c7604dcecc8fe0dba07</td>\n",
              "      <td>boston_bull</td>\n",
              "    </tr>\n",
              "    <tr>\n",
              "      <th>1</th>\n",
              "      <td>001513dfcb2ffafc82cccf4d8bbaba97</td>\n",
              "      <td>dingo</td>\n",
              "    </tr>\n",
              "    <tr>\n",
              "      <th>2</th>\n",
              "      <td>001cdf01b096e06d78e9e5112d419397</td>\n",
              "      <td>pekinese</td>\n",
              "    </tr>\n",
              "    <tr>\n",
              "      <th>3</th>\n",
              "      <td>00214f311d5d2247d5dfe4fe24b2303d</td>\n",
              "      <td>bluetick</td>\n",
              "    </tr>\n",
              "    <tr>\n",
              "      <th>4</th>\n",
              "      <td>0021f9ceb3235effd7fcde7f7538ed62</td>\n",
              "      <td>golden_retriever</td>\n",
              "    </tr>\n",
              "  </tbody>\n",
              "</table>\n",
              "</div>"
            ],
            "text/plain": [
              "                                 id             breed\n",
              "0  000bec180eb18c7604dcecc8fe0dba07       boston_bull\n",
              "1  001513dfcb2ffafc82cccf4d8bbaba97             dingo\n",
              "2  001cdf01b096e06d78e9e5112d419397          pekinese\n",
              "3  00214f311d5d2247d5dfe4fe24b2303d          bluetick\n",
              "4  0021f9ceb3235effd7fcde7f7538ed62  golden_retriever"
            ]
          },
          "metadata": {
            "tags": []
          },
          "execution_count": 10
        }
      ]
    },
    {
      "cell_type": "code",
      "metadata": {
        "id": "KwvOzGqyyxBS",
        "colab_type": "code",
        "colab": {
          "base_uri": "https://localhost:8080/",
          "height": 590
        },
        "outputId": "6c5d264e-0655-4c9c-bb95-70cd9efada98"
      },
      "source": [
        "labels_df[\"breed\"].value_counts().plot(kind=\"bar\", figsize = (20,7));"
      ],
      "execution_count": 11,
      "outputs": [
        {
          "output_type": "display_data",
          "data": {
            "image/png": "[encoded data removed]",
            "text/plain": [
              "<Figure size 1440x504 with 1 Axes>"
            ]
          },
          "metadata": {
            "tags": []
          }
        }
      ]
    },
    {
      "cell_type": "code",
      "metadata": {
        "id": "ZLzayavPy5Id",
        "colab_type": "code",
        "colab": {
          "base_uri": "https://localhost:8080/",
          "height": 173
        },
        "outputId": "b4bc2216-b5ba-484c-eec5-6a7a1a429e65"
      },
      "source": [
        "labels_df.describe()"
      ],
      "execution_count": 12,
      "outputs": [
        {
          "output_type": "execute_result",
          "data": {
            "text/html": [
              "<div>\n",
              "<style scoped>\n",
              "    .dataframe tbody tr th:only-of-type {\n",
              "        vertical-align: middle;\n",
              "    }\n",
              "\n",
              "    .dataframe tbody tr th {\n",
              "        vertical-align: top;\n",
              "    }\n",
              "\n",
              "    .dataframe thead th {\n",
              "        text-align: right;\n",
              "    }\n",
              "</style>\n",
              "<table border=\"1\" class=\"dataframe\">\n",
              "  <thead>\n",
              "    <tr style=\"text-align: right;\">\n",
              "      <th></th>\n",
              "      <th>id</th>\n",
              "      <th>breed</th>\n",
              "    </tr>\n",
              "  </thead>\n",
              "  <tbody>\n",
              "    <tr>\n",
              "      <th>count</th>\n",
              "      <td>10222</td>\n",
              "      <td>10222</td>\n",
              "    </tr>\n",
              "    <tr>\n",
              "      <th>unique</th>\n",
              "      <td>10222</td>\n",
              "      <td>120</td>\n",
              "    </tr>\n",
              "    <tr>\n",
              "      <th>top</th>\n",
              "      <td>74f4fa04d8752fff46c4d10fafe3e072</td>\n",
              "      <td>scottish_deerhound</td>\n",
              "    </tr>\n",
              "    <tr>\n",
              "      <th>freq</th>\n",
              "      <td>1</td>\n",
              "      <td>126</td>\n",
              "    </tr>\n",
              "  </tbody>\n",
              "</table>\n",
              "</div>"
            ],
            "text/plain": [
              "                                      id               breed\n",
              "count                              10222               10222\n",
              "unique                             10222                 120\n",
              "top     74f4fa04d8752fff46c4d10fafe3e072  scottish_deerhound\n",
              "freq                                   1                 126"
            ]
          },
          "metadata": {
            "tags": []
          },
          "execution_count": 12
        }
      ]
    },
    {
      "cell_type": "code",
      "metadata": {
        "id": "NWSyqJOVz0NF",
        "colab_type": "code",
        "colab": {
          "base_uri": "https://localhost:8080/",
          "height": 136
        },
        "outputId": "e4909129-e203-45f8-c02c-1cf655333870"
      },
      "source": [
        "labels_df.info()"
      ],
      "execution_count": 13,
      "outputs": [
        {
          "output_type": "stream",
          "text": [
            "<class 'pandas.core.frame.DataFrame'>\n",
            "RangeIndex: 10222 entries, 0 to 10221\n",
            "Data columns (total 2 columns):\n",
            "id       10222 non-null object\n",
            "breed    10222 non-null object\n",
            "dtypes: object(2)\n",
            "memory usage: 159.8+ KB\n"
          ],
          "name": "stdout"
        }
      ]
    },
    {
      "cell_type": "markdown",
      "metadata": {
        "id": "SyHDABoRAVWA",
        "colab_type": "text"
      },
      "source": [
        "### Creating target matrix of boolean values"
      ]
    },
    {
      "cell_type": "code",
      "metadata": {
        "id": "mOfNE3XRz6aO",
        "colab_type": "code",
        "colab": {}
      },
      "source": [
        "# grab unique breeds\n",
        "import numpy as np\n",
        "breeds = np.array(labels_df['breed'])"
      ],
      "execution_count": 0,
      "outputs": []
    },
    {
      "cell_type": "code",
      "metadata": {
        "id": "HWlvmP040dKQ",
        "colab_type": "code",
        "colab": {
          "base_uri": "https://localhost:8080/",
          "height": 34
        },
        "outputId": "14a0b342-e7d7-4099-b4f9-447fae7cd260"
      },
      "source": [
        "len(breeds)"
      ],
      "execution_count": 15,
      "outputs": [
        {
          "output_type": "execute_result",
          "data": {
            "text/plain": [
              "10222"
            ]
          },
          "metadata": {
            "tags": []
          },
          "execution_count": 15
        }
      ]
    },
    {
      "cell_type": "code",
      "metadata": {
        "id": "ZZSEKbnu0xtk",
        "colab_type": "code",
        "colab": {}
      },
      "source": [
        "breed_header = np.unique(breeds)"
      ],
      "execution_count": 0,
      "outputs": []
    },
    {
      "cell_type": "code",
      "metadata": {
        "id": "LX7NUUOP1JeD",
        "colab_type": "code",
        "colab": {
          "base_uri": "https://localhost:8080/",
          "height": 34
        },
        "outputId": "c6cb7196-c108-4490-9485-93f040eaa08a"
      },
      "source": [
        "len(breed_header)"
      ],
      "execution_count": 17,
      "outputs": [
        {
          "output_type": "execute_result",
          "data": {
            "text/plain": [
              "120"
            ]
          },
          "metadata": {
            "tags": []
          },
          "execution_count": 17
        }
      ]
    },
    {
      "cell_type": "code",
      "metadata": {
        "id": "X1nq1skU1QIb",
        "colab_type": "code",
        "colab": {}
      },
      "source": [
        "target_matrix = [(breed==breed_header) for breed in breeds]"
      ],
      "execution_count": 0,
      "outputs": []
    },
    {
      "cell_type": "code",
      "metadata": {
        "id": "ZWREKrmE13_0",
        "colab_type": "code",
        "colab": {}
      },
      "source": [
        "label_bool = np.array(target_matrix)"
      ],
      "execution_count": 0,
      "outputs": []
    },
    {
      "cell_type": "code",
      "metadata": {
        "id": "b8c-7ymPBjXE",
        "colab_type": "code",
        "colab": {
          "base_uri": "https://localhost:8080/",
          "height": 136
        },
        "outputId": "ca4517be-d266-4ac2-80cb-dc5132f6d016"
      },
      "source": [
        "label_bool[:10]"
      ],
      "execution_count": 22,
      "outputs": [
        {
          "output_type": "execute_result",
          "data": {
            "text/plain": [
              "array([[False, False, False, ..., False, False, False],\n",
              "       [False, False, False, ..., False, False, False],\n",
              "       [False, False, False, ..., False, False, False],\n",
              "       ...,\n",
              "       [False, False, False, ..., False, False, False],\n",
              "       [False, False, False, ..., False, False, False],\n",
              "       [False, False, False, ..., False, False, False]])"
            ]
          },
          "metadata": {
            "tags": []
          },
          "execution_count": 22
        }
      ]
    },
    {
      "cell_type": "markdown",
      "metadata": {
        "id": "xvkvgtPbBsWn",
        "colab_type": "text"
      },
      "source": [
        "## Getting filenames"
      ]
    },
    {
      "cell_type": "code",
      "metadata": {
        "id": "CSk8JJsnY5lM",
        "colab_type": "code",
        "colab": {}
      },
      "source": [
        "filenames = \"/content/drive/My Drive/Colab Notebooks/Data/Dog_Breed_Detection/train/\" + labels_df['id'] + \".jpg\""
      ],
      "execution_count": 0,
      "outputs": []
    },
    {
      "cell_type": "code",
      "metadata": {
        "id": "c4JqCz-JZDHL",
        "colab_type": "code",
        "colab": {
          "base_uri": "https://localhost:8080/",
          "height": 119
        },
        "outputId": "19e75870-add7-41b9-f10d-c9f3a00b80a2"
      },
      "source": [
        "filenames.head()"
      ],
      "execution_count": 35,
      "outputs": [
        {
          "output_type": "execute_result",
          "data": {
            "text/plain": [
              "0    /content/drive/My Drive/Colab Notebooks/Data/D...\n",
              "1    /content/drive/My Drive/Colab Notebooks/Data/D...\n",
              "2    /content/drive/My Drive/Colab Notebooks/Data/D...\n",
              "3    /content/drive/My Drive/Colab Notebooks/Data/D...\n",
              "4    /content/drive/My Drive/Colab Notebooks/Data/D...\n",
              "Name: id, dtype: object"
            ]
          },
          "metadata": {
            "tags": []
          },
          "execution_count": 35
        }
      ]
    },
    {
      "cell_type": "code",
      "metadata": {
        "id": "ebUCKwk1ZXQv",
        "colab_type": "code",
        "colab": {
          "base_uri": "https://localhost:8080/",
          "height": 517
        },
        "outputId": "336e9b9f-8cac-436d-89dd-0d10b972b13f"
      },
      "source": [
        "# Open a file and check\n",
        "from IPython.display import display, Image\n"
      ],
      "execution_count": 39,
      "outputs": [
        {
          "output_type": "execute_result",
          "data": {
            "image/jpeg": "[encoded data removed]",
            "text/plain": [
              "<IPython.core.display.Image object>"
            ]
          },
          "metadata": {
            "tags": []
          },
          "execution_count": 39
        }
      ]
    },
    {
      "cell_type": "code",
      "metadata": {
        "id": "zMiHQCFNcS7W",
        "colab_type": "code",
        "colab": {
          "base_uri": "https://localhost:8080/",
          "height": 34
        },
        "outputId": "4b7b6da9-d5f1-42b6-9bbc-4f845702c57a"
      },
      "source": [
        "Image(filenames[112]), labels_df['breed'][112]\n",
        "# filenames[100]"
      ],
      "execution_count": 44,
      "outputs": [
        {
          "output_type": "execute_result",
          "data": {
            "text/plain": [
              "(<IPython.core.display.Image object>, 'bull_mastiff')"
            ]
          },
          "metadata": {
            "tags": []
          },
          "execution_count": 44
        }
      ]
    },
    {
      "cell_type": "markdown",
      "metadata": {
        "id": "sDLFnRJ9eYJG",
        "colab_type": "text"
      },
      "source": [
        "## Split Train data into Train and Validate set"
      ]
    },
    {
      "cell_type": "code",
      "metadata": {
        "id": "5cUbuoGNejWQ",
        "colab_type": "code",
        "colab": {}
      },
      "source": [
        "SIZE_LIMIT = 1000 #@param {type:\"slider\", min:1000, max:10223, step:1 }\n",
        "X = filenames[:SIZE_LIMIT]\n",
        "y = label_bool[:SIZE_LIMIT]"
      ],
      "execution_count": 0,
      "outputs": []
    },
    {
      "cell_type": "code",
      "metadata": {
        "id": "GQsgHRlOevBq",
        "colab_type": "code",
        "colab": {}
      },
      "source": [
        "from sklearn.model_selection import train_test_split\n",
        "np.random.seed(42)"
      ],
      "execution_count": 0,
      "outputs": []
    },
    {
      "cell_type": "code",
      "metadata": {
        "id": "KMKZeyWrfipL",
        "colab_type": "code",
        "colab": {}
      },
      "source": [
        "X_train, X_val, y_train, y_val = train_test_split(X,y,test_size = 0.2)"
      ],
      "execution_count": 0,
      "outputs": []
    },
    {
      "cell_type": "code",
      "metadata": {
        "id": "mBEoq-4hgbTY",
        "colab_type": "code",
        "colab": {
          "base_uri": "https://localhost:8080/",
          "height": 34
        },
        "outputId": "61f2d0c0-4ebc-4d04-8dae-886544a935e5"
      },
      "source": [
        "len(X_train), len(X_val),  len(y_train), len(y_val)"
      ],
      "execution_count": 56,
      "outputs": [
        {
          "output_type": "execute_result",
          "data": {
            "text/plain": [
              "(800, 200, 800, 200)"
            ]
          },
          "metadata": {
            "tags": []
          },
          "execution_count": 56
        }
      ]
    },
    {
      "cell_type": "markdown",
      "metadata": {
        "id": "7rMTXwZac0Y-",
        "colab_type": "text"
      },
      "source": [
        "# Image pre-processing\n",
        "## create a fuction for Image pre-processing\n",
        "1. Reads an image filepath as input\n",
        "2. Use Tensorflow to read the file and save it to a variable 'image'\n",
        "3. Converts the 'image' to Tensor (matrix of numbers)\n",
        "4. Normalize the color channels from (0-255) to (0-1)\n",
        "5. resize the image to 224 X 224\n",
        "6. Return the modified image\n"
      ]
    },
    {
      "cell_type": "code",
      "metadata": {
        "id": "oWvfwwHyeD-A",
        "colab_type": "code",
        "colab": {}
      },
      "source": [
        "from matplotlib.pyplot import imread"
      ],
      "execution_count": 0,
      "outputs": []
    },
    {
      "cell_type": "code",
      "metadata": {
        "id": "_3VfozIYhCVY",
        "colab_type": "code",
        "colab": {}
      },
      "source": [
        "# reading image as a numpy array\n",
        "image = imread(filenames[10])"
      ],
      "execution_count": 0,
      "outputs": []
    },
    {
      "cell_type": "code",
      "metadata": {
        "id": "zMZco43Fhynk",
        "colab_type": "code",
        "colab": {
          "base_uri": "https://localhost:8080/",
          "height": 272
        },
        "outputId": "4d1a4619-bd41-485f-f3e8-4781b26e7e81"
      },
      "source": [
        "image[:2]"
      ],
      "execution_count": 63,
      "outputs": [
        {
          "output_type": "execute_result",
          "data": {
            "text/plain": [
              "array([[[110, 100, 108],\n",
              "        [120, 110, 118],\n",
              "        [112, 102, 110],\n",
              "        ...,\n",
              "        [ 75,  68,  75],\n",
              "        [ 80,  73,  80],\n",
              "        [ 74,  67,  74]],\n",
              "\n",
              "       [[ 99,  89,  97],\n",
              "        [112, 102, 110],\n",
              "        [109,  99, 107],\n",
              "        ...,\n",
              "        [ 73,  67,  71],\n",
              "        [ 78,  72,  76],\n",
              "        [ 73,  67,  71]]], dtype=uint8)"
            ]
          },
          "metadata": {
            "tags": []
          },
          "execution_count": 63
        }
      ]
    },
    {
      "cell_type": "code",
      "metadata": {
        "id": "Ri_8i3eBhT45",
        "colab_type": "code",
        "colab": {}
      },
      "source": [
        "# converting numpy array into tensor\n",
        "tensor = tf.constant(image)"
      ],
      "execution_count": 0,
      "outputs": []
    },
    {
      "cell_type": "code",
      "metadata": {
        "id": "cqazC-9WiDT6",
        "colab_type": "code",
        "colab": {
          "base_uri": "https://localhost:8080/",
          "height": 289
        },
        "outputId": "2babdd5b-0862-4186-e873-12e4a157337a"
      },
      "source": [
        "tensor[:2]"
      ],
      "execution_count": 68,
      "outputs": [
        {
          "output_type": "execute_result",
          "data": {
            "text/plain": [
              "<tf.Tensor: shape=(2, 375, 3), dtype=uint8, numpy=\n",
              "array([[[110, 100, 108],\n",
              "        [120, 110, 118],\n",
              "        [112, 102, 110],\n",
              "        ...,\n",
              "        [ 75,  68,  75],\n",
              "        [ 80,  73,  80],\n",
              "        [ 74,  67,  74]],\n",
              "\n",
              "       [[ 99,  89,  97],\n",
              "        [112, 102, 110],\n",
              "        [109,  99, 107],\n",
              "        ...,\n",
              "        [ 73,  67,  71],\n",
              "        [ 78,  72,  76],\n",
              "        [ 73,  67,  71]]], dtype=uint8)>"
            ]
          },
          "metadata": {
            "tags": []
          },
          "execution_count": 68
        }
      ]
    },
    {
      "cell_type": "code",
      "metadata": {
        "id": "ii6OlQN-iYRs",
        "colab_type": "code",
        "colab": {}
      },
      "source": [
        "IMG_SIZE = 224\n",
        "def process_image(img_path, size = IMG_SIZE):\n",
        "  # Read the file using tensorflow\n",
        "  image = tf.io.read_file(img_path)\n",
        "  \n",
        "  # Convert file into tensor\n",
        "  image = tf.image.decode_jpeg(image, channels=3)\n",
        "\n",
        "  # Normalize the RGB channel\n",
        "  image = tf.image.convert_image_dtype(image,tf.float32)\n",
        "\n",
        "  # Resize the image\n",
        "  image = tf.image.resize(image, size = [size, size])\n",
        "  \n",
        "  return image"
      ],
      "execution_count": 0,
      "outputs": []
    },
    {
      "cell_type": "code",
      "metadata": {
        "id": "o9Bd_GHrq4UD",
        "colab_type": "code",
        "colab": {}
      },
      "source": [
        ""
      ],
      "execution_count": 0,
      "outputs": []
    }
  ]
}